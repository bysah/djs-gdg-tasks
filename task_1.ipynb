{
 "cells": [
  {
   "cell_type": "markdown",
   "id": "2c2ec1b8",
   "metadata": {},
   "source": [
    "Pushpa: The Red Sandalwood Stash!\n",
    "Hey, Pushpa Raj! You've got your eyes on a new forest area, represented by a\n",
    "strategic grid map. But this isn't just any forest; it's riddled with valuable 'Lal Chandan'\n",
    "trees and some empty spots. Your goal: locate the densest stash!\n",
    "The forest map is laid out as a grid (a matrix), where each cell tells you what's there:\n",
    "1 = Lal Chandan Tree! (Highly valuable)\n",
    "0 = Empty Spot (No value for your operations)\n",
    "You have a special \"Extraction Zone\" blueprint, a square area of size m x m. To begin\n",
    "extraction, your central operational tent must be set up right next to a Lal Chandan\n",
    "Tree (1) – that's your starting point for security and logistics!"
   ]
  },
  {
   "cell_type": "markdown",
   "id": "6f64c21b",
   "metadata": {},
   "source": [
    "Your Task:\n",
    "\n",
    "For the given center (r, c) and extraction size m × m, slice out the exact extraction zone from\n",
    "the forest grid. Then Count how many Lal Chandan Trees (1s ) are inside that extraction\n",
    "zone and display both the zone and the total."
   ]
  },
  {
   "cell_type": "markdown",
   "id": "56539ae9",
   "metadata": {},
   "source": [
    "Example:\n",
    "Input:\n",
    "forest_map = [\n",
    "[1,0,0,0,1],\n",
    "[1,0,1,1,1],\n",
    "[1,1,0,1,1],\n",
    "[1,0,1,1,0],\n",
    "[0,1,0,1,1]\n",
    "]\n",
    "m = 3\n",
    "center = (2, 3) # row=2, col=3 (0-based index)\n",
    "\n",
    "Output (you need to reconfirm this location, Pushpa!):\n",
    "\n",
    "Center of Operations: (2, 3)\n",
    "Extraction Zone (3x3):\n",
    "[\n",
    "[0, 1, 1],\n",
    "[0, 1, 1],\n",
    "[1, 1, 0]\n",
    "]\n",
    "Total Lal Chandan Trees in Zone: 7"
   ]
  },
  {
   "cell_type": "code",
   "execution_count": 5,
   "id": "77ea2da5",
   "metadata": {},
   "outputs": [
    {
     "name": "stdout",
     "output_type": "stream",
     "text": [
      "The extraction zone(3X3) is:\n",
      "[1, 1, 1]\n",
      "[0, 1, 1]\n",
      "[1, 1, 0]\n",
      "Total trees: 7\n"
     ]
    }
   ],
   "source": [
    "forest_map = [\n",
    "[1,0,0,0,1],\n",
    "[1,0,1,1,1],\n",
    "[1,1,0,1,1],\n",
    "[1,0,1,1,0],\n",
    "[0,1,0,1,1]\n",
    "]\n",
    "\n",
    "m=int(input('Enter the number of rows/columns in the mXm extraction zone: '))\n",
    "r=int(input('Enter the row number of the center of the extraction zone: '))\n",
    "c=int(input('Enter the column number of the center of the extraction zone: '))\n",
    "\n",
    "extraction_zone = []\n",
    "\n",
    "row_lower=r-(m//2)\n",
    "row_upper=r+(m//2)\n",
    "\n",
    "column_lower=c-(m//2)\n",
    "column_upper=c+(m//2)\n",
    "\n",
    "for i in range(row_lower, row_upper+1):\n",
    "    row = []\n",
    "    for j in range(column_lower, column_upper+1):\n",
    "        row.append(forest_map[i][j])\n",
    "    extraction_zone.append(row)\n",
    "\n",
    "print(f'The extraction zone({m}x{m}) is:')\n",
    "for row in extraction_zone:\n",
    "    print(row)  \n",
    "\n",
    "count = 0\n",
    "for row in extraction_zone:\n",
    "    count += row.count(1)\n",
    "\n",
    "print(f'Total trees: {count}')"
   ]
  },
  {
   "cell_type": "code",
   "execution_count": null,
   "id": "2ff508c1",
   "metadata": {},
   "outputs": [],
   "source": []
  }
 ],
 "metadata": {
  "kernelspec": {
   "display_name": "Python 3",
   "language": "python",
   "name": "python3"
  },
  "language_info": {
   "codemirror_mode": {
    "name": "ipython",
    "version": 3
   },
   "file_extension": ".py",
   "mimetype": "text/x-python",
   "name": "python",
   "nbconvert_exporter": "python",
   "pygments_lexer": "ipython3",
   "version": "3.12.6"
  }
 },
 "nbformat": 4,
 "nbformat_minor": 5
}
