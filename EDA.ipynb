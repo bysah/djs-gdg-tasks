{
 "cells": [
  {
   "cell_type": "code",
   "execution_count": 1,
   "id": "b27d7640",
   "metadata": {},
   "outputs": [],
   "source": [
    "import pandas as pd\n",
    "import numpy as np\n",
    "import matplotlib.pyplot as plt\n",
    "import seaborn as sns"
   ]
  },
  {
   "cell_type": "code",
   "execution_count": 2,
   "id": "9e3d0f57",
   "metadata": {},
   "outputs": [],
   "source": [
    "df = pd.read_csv('/Users/yashbhure/Desktop/djs-gdg-tasks/f1_dnf.csv')"
   ]
  },
  {
   "cell_type": "code",
   "execution_count": 3,
   "id": "e643eeb0",
   "metadata": {},
   "outputs": [
    {
     "name": "stdout",
     "output_type": "stream",
     "text": [
      "<class 'pandas.core.frame.DataFrame'>\n",
      "RangeIndex: 10000 entries, 0 to 9999\n",
      "Data columns (total 31 columns):\n",
      " #   Column           Non-Null Count  Dtype  \n",
      "---  ------           --------------  -----  \n",
      " 0   resultId         10000 non-null  int64  \n",
      " 1   raceId           10000 non-null  int64  \n",
      " 2   year             10000 non-null  int64  \n",
      " 3   round            10000 non-null  int64  \n",
      " 4   grid             10000 non-null  int64  \n",
      " 5   positionOrder    10000 non-null  int64  \n",
      " 6   points           9029 non-null   float64\n",
      " 7   laps             9022 non-null   float64\n",
      " 8   milliseconds     8982 non-null   object \n",
      " 9   fastestLap       10000 non-null  object \n",
      " 10  rank             10000 non-null  object \n",
      " 11  fastestLapTime   10000 non-null  object \n",
      " 12  fastestLapSpeed  9047 non-null   object \n",
      " 13  driverRef        10000 non-null  object \n",
      " 14  surname          10000 non-null  object \n",
      " 15  forename         10000 non-null  object \n",
      " 16  dob              10000 non-null  object \n",
      " 17  nationality_x    10000 non-null  object \n",
      " 18  constructorRef   10000 non-null  object \n",
      " 19  name             10000 non-null  object \n",
      " 20  nationality_y    10000 non-null  object \n",
      " 21  circuitRef       10000 non-null  object \n",
      " 22  circuitId        10000 non-null  int64  \n",
      " 23  name_y           10000 non-null  object \n",
      " 24  location         10000 non-null  object \n",
      " 25  country          10000 non-null  object \n",
      " 26  lat              10000 non-null  float64\n",
      " 27  lng              10000 non-null  float64\n",
      " 28  alt              10000 non-null  int64  \n",
      " 29  date             10000 non-null  object \n",
      " 30  target_finish    10000 non-null  int64  \n",
      "dtypes: float64(4), int64(9), object(18)\n",
      "memory usage: 2.4+ MB\n"
     ]
    }
   ],
   "source": [
    "df.info()"
   ]
  },
  {
   "cell_type": "code",
   "execution_count": null,
   "id": "9ac86ab1",
   "metadata": {},
   "outputs": [],
   "source": []
  }
 ],
 "metadata": {
  "kernelspec": {
   "display_name": "Python 3",
   "language": "python",
   "name": "python3"
  },
  "language_info": {
   "codemirror_mode": {
    "name": "ipython",
    "version": 3
   },
   "file_extension": ".py",
   "mimetype": "text/x-python",
   "name": "python",
   "nbconvert_exporter": "python",
   "pygments_lexer": "ipython3",
   "version": "3.12.6"
  }
 },
 "nbformat": 4,
 "nbformat_minor": 5
}
